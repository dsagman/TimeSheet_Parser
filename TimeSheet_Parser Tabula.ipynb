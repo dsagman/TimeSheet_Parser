{
 "cells": [
  {
   "cell_type": "code",
   "execution_count": 20,
   "metadata": {},
   "outputs": [
    {
     "name": "stderr",
     "output_type": "stream",
     "text": [
      "'pages' argument isn't specified.Will extract only from page 1 by default.\n"
     ]
    }
   ],
   "source": [
    "import tabula\n",
    "import pandas as pd\n",
    "df = tabula.read_pdf('july10-23.pdf')\n"
   ]
  },
  {
   "cell_type": "code",
   "execution_count": 98,
   "metadata": {},
   "outputs": [
    {
     "data": {
      "text/html": [
       "<div>\n",
       "<style scoped>\n",
       "    .dataframe tbody tr th:only-of-type {\n",
       "        vertical-align: middle;\n",
       "    }\n",
       "\n",
       "    .dataframe tbody tr th {\n",
       "        vertical-align: top;\n",
       "    }\n",
       "\n",
       "    .dataframe thead th {\n",
       "        text-align: right;\n",
       "    }\n",
       "</style>\n",
       "<table border=\"1\" class=\"dataframe\">\n",
       "  <thead>\n",
       "    <tr style=\"text-align: right;\">\n",
       "      <th></th>\n",
       "      <th>Day</th>\n",
       "      <th>Start</th>\n",
       "      <th>End</th>\n",
       "      <th>Hours</th>\n",
       "      <th>Description</th>\n",
       "    </tr>\n",
       "  </thead>\n",
       "  <tbody>\n",
       "    <tr>\n",
       "      <th>1</th>\n",
       "      <td>Mon Jul 11</td>\n",
       "      <td>10:00 AM</td>\n",
       "      <td>12:00 PM</td>\n",
       "      <td>3.5</td>\n",
       "      <td>Mocap</td>\n",
       "    </tr>\n",
       "    <tr>\n",
       "      <th>2</th>\n",
       "      <td>Mon Jul 11</td>\n",
       "      <td>12:00 PM</td>\n",
       "      <td>1:00 PM</td>\n",
       "      <td>3.5</td>\n",
       "      <td>ITG Meeting</td>\n",
       "    </tr>\n",
       "    <tr>\n",
       "      <th>3</th>\n",
       "      <td>Mon Jul 11</td>\n",
       "      <td>1:00 PM</td>\n",
       "      <td>1:30 PM</td>\n",
       "      <td>3.5</td>\n",
       "      <td>Mocap</td>\n",
       "    </tr>\n",
       "    <tr>\n",
       "      <th>5</th>\n",
       "      <td>Wed Jul 13</td>\n",
       "      <td>9:30 AM</td>\n",
       "      <td>11:30 AM</td>\n",
       "      <td>2.0</td>\n",
       "      <td>NeoNatal Rig</td>\n",
       "    </tr>\n",
       "    <tr>\n",
       "      <th>10</th>\n",
       "      <td>Mon Jul 18</td>\n",
       "      <td>12:00 PM</td>\n",
       "      <td>12:15 PM</td>\n",
       "      <td>0.3</td>\n",
       "      <td>ITG Meeting</td>\n",
       "    </tr>\n",
       "    <tr>\n",
       "      <th>11</th>\n",
       "      <td>Tue Jul 19</td>\n",
       "      <td>10:30 AM</td>\n",
       "      <td>11:30 AM</td>\n",
       "      <td>3.0</td>\n",
       "      <td>Jov Icon</td>\n",
       "    </tr>\n",
       "    <tr>\n",
       "      <th>12</th>\n",
       "      <td>Tue Jul 19</td>\n",
       "      <td>3:00 PM</td>\n",
       "      <td>5:00 PM</td>\n",
       "      <td>3.0</td>\n",
       "      <td>NeoNatal Model</td>\n",
       "    </tr>\n",
       "    <tr>\n",
       "      <th>13</th>\n",
       "      <td>Wed Jul 20</td>\n",
       "      <td>10:00 AM</td>\n",
       "      <td>11:00 AM</td>\n",
       "      <td>2.5</td>\n",
       "      <td>Neonatal Rig and meet</td>\n",
       "    </tr>\n",
       "    <tr>\n",
       "      <th>14</th>\n",
       "      <td>Wed Jul 20</td>\n",
       "      <td>12:30 PM</td>\n",
       "      <td>2:00 PM</td>\n",
       "      <td>2.5</td>\n",
       "      <td>NeoNatal R</td>\n",
       "    </tr>\n",
       "    <tr>\n",
       "      <th>15</th>\n",
       "      <td>Thu Jul 21</td>\n",
       "      <td>10:00 AM</td>\n",
       "      <td>11:00 AM</td>\n",
       "      <td>3.0</td>\n",
       "      <td>Jov Icon</td>\n",
       "    </tr>\n",
       "    <tr>\n",
       "      <th>16</th>\n",
       "      <td>Thu Jul 21</td>\n",
       "      <td>12:00 PM</td>\n",
       "      <td>2:00 PM</td>\n",
       "      <td>3.0</td>\n",
       "      <td>Spay Rig</td>\n",
       "    </tr>\n",
       "    <tr>\n",
       "      <th>17</th>\n",
       "      <td>Fri Jul 22</td>\n",
       "      <td>9:30 AM</td>\n",
       "      <td>11:30 AM</td>\n",
       "      <td>2.0</td>\n",
       "      <td>Spay Rig and Meeting</td>\n",
       "    </tr>\n",
       "  </tbody>\n",
       "</table>\n",
       "</div>"
      ],
      "text/plain": [
       "           Day     Start       End  Hours            Description\n",
       "1   Mon Jul 11  10:00 AM  12:00 PM    3.5                  Mocap\n",
       "2   Mon Jul 11  12:00 PM   1:00 PM    3.5            ITG Meeting\n",
       "3   Mon Jul 11   1:00 PM   1:30 PM    3.5                  Mocap\n",
       "5   Wed Jul 13   9:30 AM  11:30 AM    2.0           NeoNatal Rig\n",
       "10  Mon Jul 18  12:00 PM  12:15 PM    0.3            ITG Meeting\n",
       "11  Tue Jul 19  10:30 AM  11:30 AM    3.0               Jov Icon\n",
       "12  Tue Jul 19   3:00 PM   5:00 PM    3.0         NeoNatal Model\n",
       "13  Wed Jul 20  10:00 AM  11:00 AM    2.5  Neonatal Rig and meet\n",
       "14  Wed Jul 20  12:30 PM   2:00 PM    2.5             NeoNatal R\n",
       "15  Thu Jul 21  10:00 AM  11:00 AM    3.0               Jov Icon\n",
       "16  Thu Jul 21  12:00 PM   2:00 PM    3.0               Spay Rig\n",
       "17  Fri Jul 22   9:30 AM  11:30 AM    2.0   Spay Rig and Meeting"
      ]
     },
     "execution_count": 98,
     "metadata": {},
     "output_type": "execute_result"
    }
   ],
   "source": [
    "# display(df[0])\n",
    "# display(df[1])\n",
    "df_full = pd.concat([df[0], df[1]], ignore_index=True\n",
    "            ).dropna(subset='Start'\n",
    "            ).fillna(method='ffill'\n",
    "            ).drop(['Notes', 'Project', 'Task', 'Earn Code'], axis=1)\n",
    "df_full"
   ]
  },
  {
   "cell_type": "code",
   "execution_count": 109,
   "metadata": {},
   "outputs": [
    {
     "data": {
      "text/html": [
       "<style type=\"text/css\">\n",
       "</style>\n",
       "<table id=\"T_91316\">\n",
       "  <thead>\n",
       "    <tr>\n",
       "      <th id=\"T_91316_level0_col0\" class=\"col_heading level0 col0\" >Day</th>\n",
       "      <th id=\"T_91316_level0_col1\" class=\"col_heading level0 col1\" >Start</th>\n",
       "      <th id=\"T_91316_level0_col2\" class=\"col_heading level0 col2\" >End</th>\n",
       "      <th id=\"T_91316_level0_col3\" class=\"col_heading level0 col3\" >Hours</th>\n",
       "      <th id=\"T_91316_level0_col4\" class=\"col_heading level0 col4\" >Description</th>\n",
       "      <th id=\"T_91316_level0_col5\" class=\"col_heading level0 col5\" >Rtime</th>\n",
       "    </tr>\n",
       "  </thead>\n",
       "  <tbody>\n",
       "    <tr>\n",
       "      <td id=\"T_91316_row0_col0\" class=\"data row0 col0\" >Mon Jul 11</td>\n",
       "      <td id=\"T_91316_row0_col1\" class=\"data row0 col1\" >10:00 AM</td>\n",
       "      <td id=\"T_91316_row0_col2\" class=\"data row0 col2\" >12:00 PM</td>\n",
       "      <td id=\"T_91316_row0_col3\" class=\"data row0 col3\" >3.5</td>\n",
       "      <td id=\"T_91316_row0_col4\" class=\"data row0 col4\" >Mocap</td>\n",
       "      <td id=\"T_91316_row0_col5\" class=\"data row0 col5\" >2.0</td>\n",
       "    </tr>\n",
       "    <tr>\n",
       "      <td id=\"T_91316_row1_col0\" class=\"data row1 col0\" >Mon Jul 11</td>\n",
       "      <td id=\"T_91316_row1_col1\" class=\"data row1 col1\" >12:00 PM</td>\n",
       "      <td id=\"T_91316_row1_col2\" class=\"data row1 col2\" >1:00 PM</td>\n",
       "      <td id=\"T_91316_row1_col3\" class=\"data row1 col3\" >3.5</td>\n",
       "      <td id=\"T_91316_row1_col4\" class=\"data row1 col4\" >ITG Meeting</td>\n",
       "      <td id=\"T_91316_row1_col5\" class=\"data row1 col5\" >1.0</td>\n",
       "    </tr>\n",
       "    <tr>\n",
       "      <td id=\"T_91316_row2_col0\" class=\"data row2 col0\" >Mon Jul 11</td>\n",
       "      <td id=\"T_91316_row2_col1\" class=\"data row2 col1\" >1:00 PM</td>\n",
       "      <td id=\"T_91316_row2_col2\" class=\"data row2 col2\" >1:30 PM</td>\n",
       "      <td id=\"T_91316_row2_col3\" class=\"data row2 col3\" >3.5</td>\n",
       "      <td id=\"T_91316_row2_col4\" class=\"data row2 col4\" >Mocap</td>\n",
       "      <td id=\"T_91316_row2_col5\" class=\"data row2 col5\" >0.5</td>\n",
       "    </tr>\n",
       "    <tr>\n",
       "      <td id=\"T_91316_row3_col0\" class=\"data row3 col0\" >Wed Jul 13</td>\n",
       "      <td id=\"T_91316_row3_col1\" class=\"data row3 col1\" >9:30 AM</td>\n",
       "      <td id=\"T_91316_row3_col2\" class=\"data row3 col2\" >11:30 AM</td>\n",
       "      <td id=\"T_91316_row3_col3\" class=\"data row3 col3\" >2.0</td>\n",
       "      <td id=\"T_91316_row3_col4\" class=\"data row3 col4\" >NeoNatal Rig</td>\n",
       "      <td id=\"T_91316_row3_col5\" class=\"data row3 col5\" >2.0</td>\n",
       "    </tr>\n",
       "    <tr>\n",
       "      <td id=\"T_91316_row4_col0\" class=\"data row4 col0\" >Mon Jul 18</td>\n",
       "      <td id=\"T_91316_row4_col1\" class=\"data row4 col1\" >12:00 PM</td>\n",
       "      <td id=\"T_91316_row4_col2\" class=\"data row4 col2\" >12:15 PM</td>\n",
       "      <td id=\"T_91316_row4_col3\" class=\"data row4 col3\" >0.3</td>\n",
       "      <td id=\"T_91316_row4_col4\" class=\"data row4 col4\" >ITG Meeting</td>\n",
       "      <td id=\"T_91316_row4_col5\" class=\"data row4 col5\" >0.3</td>\n",
       "    </tr>\n",
       "    <tr>\n",
       "      <td id=\"T_91316_row5_col0\" class=\"data row5 col0\" >Tue Jul 19</td>\n",
       "      <td id=\"T_91316_row5_col1\" class=\"data row5 col1\" >10:30 AM</td>\n",
       "      <td id=\"T_91316_row5_col2\" class=\"data row5 col2\" >11:30 AM</td>\n",
       "      <td id=\"T_91316_row5_col3\" class=\"data row5 col3\" >3.0</td>\n",
       "      <td id=\"T_91316_row5_col4\" class=\"data row5 col4\" >Jov Icon</td>\n",
       "      <td id=\"T_91316_row5_col5\" class=\"data row5 col5\" >1.0</td>\n",
       "    </tr>\n",
       "    <tr>\n",
       "      <td id=\"T_91316_row6_col0\" class=\"data row6 col0\" >Tue Jul 19</td>\n",
       "      <td id=\"T_91316_row6_col1\" class=\"data row6 col1\" >3:00 PM</td>\n",
       "      <td id=\"T_91316_row6_col2\" class=\"data row6 col2\" >5:00 PM</td>\n",
       "      <td id=\"T_91316_row6_col3\" class=\"data row6 col3\" >3.0</td>\n",
       "      <td id=\"T_91316_row6_col4\" class=\"data row6 col4\" >NeoNatal Model</td>\n",
       "      <td id=\"T_91316_row6_col5\" class=\"data row6 col5\" >2.0</td>\n",
       "    </tr>\n",
       "    <tr>\n",
       "      <td id=\"T_91316_row7_col0\" class=\"data row7 col0\" >Wed Jul 20</td>\n",
       "      <td id=\"T_91316_row7_col1\" class=\"data row7 col1\" >10:00 AM</td>\n",
       "      <td id=\"T_91316_row7_col2\" class=\"data row7 col2\" >11:00 AM</td>\n",
       "      <td id=\"T_91316_row7_col3\" class=\"data row7 col3\" >2.5</td>\n",
       "      <td id=\"T_91316_row7_col4\" class=\"data row7 col4\" >Neonatal Rig and meet</td>\n",
       "      <td id=\"T_91316_row7_col5\" class=\"data row7 col5\" >1.0</td>\n",
       "    </tr>\n",
       "    <tr>\n",
       "      <td id=\"T_91316_row8_col0\" class=\"data row8 col0\" >Wed Jul 20</td>\n",
       "      <td id=\"T_91316_row8_col1\" class=\"data row8 col1\" >12:30 PM</td>\n",
       "      <td id=\"T_91316_row8_col2\" class=\"data row8 col2\" >2:00 PM</td>\n",
       "      <td id=\"T_91316_row8_col3\" class=\"data row8 col3\" >2.5</td>\n",
       "      <td id=\"T_91316_row8_col4\" class=\"data row8 col4\" >NeoNatal R</td>\n",
       "      <td id=\"T_91316_row8_col5\" class=\"data row8 col5\" >1.5</td>\n",
       "    </tr>\n",
       "    <tr>\n",
       "      <td id=\"T_91316_row9_col0\" class=\"data row9 col0\" >Thu Jul 21</td>\n",
       "      <td id=\"T_91316_row9_col1\" class=\"data row9 col1\" >10:00 AM</td>\n",
       "      <td id=\"T_91316_row9_col2\" class=\"data row9 col2\" >11:00 AM</td>\n",
       "      <td id=\"T_91316_row9_col3\" class=\"data row9 col3\" >3.0</td>\n",
       "      <td id=\"T_91316_row9_col4\" class=\"data row9 col4\" >Jov Icon</td>\n",
       "      <td id=\"T_91316_row9_col5\" class=\"data row9 col5\" >1.0</td>\n",
       "    </tr>\n",
       "    <tr>\n",
       "      <td id=\"T_91316_row10_col0\" class=\"data row10 col0\" >Thu Jul 21</td>\n",
       "      <td id=\"T_91316_row10_col1\" class=\"data row10 col1\" >12:00 PM</td>\n",
       "      <td id=\"T_91316_row10_col2\" class=\"data row10 col2\" >2:00 PM</td>\n",
       "      <td id=\"T_91316_row10_col3\" class=\"data row10 col3\" >3.0</td>\n",
       "      <td id=\"T_91316_row10_col4\" class=\"data row10 col4\" >Spay Rig</td>\n",
       "      <td id=\"T_91316_row10_col5\" class=\"data row10 col5\" >2.0</td>\n",
       "    </tr>\n",
       "    <tr>\n",
       "      <td id=\"T_91316_row11_col0\" class=\"data row11 col0\" >Fri Jul 22</td>\n",
       "      <td id=\"T_91316_row11_col1\" class=\"data row11 col1\" >9:30 AM</td>\n",
       "      <td id=\"T_91316_row11_col2\" class=\"data row11 col2\" >11:30 AM</td>\n",
       "      <td id=\"T_91316_row11_col3\" class=\"data row11 col3\" >2.0</td>\n",
       "      <td id=\"T_91316_row11_col4\" class=\"data row11 col4\" >Spay Rig and Meeting</td>\n",
       "      <td id=\"T_91316_row11_col5\" class=\"data row11 col5\" >2.0</td>\n",
       "    </tr>\n",
       "  </tbody>\n",
       "</table>\n"
      ],
      "text/plain": [
       "<pandas.io.formats.style.Styler at 0x147e05790>"
      ]
     },
     "execution_count": 109,
     "metadata": {},
     "output_type": "execute_result"
    }
   ],
   "source": [
    "df_full['Rtime'] = (0.01+(pd.to_datetime(df_full['End']\n",
    "                        )-pd.to_datetime(df_full['Start'])\n",
    "                        ).dt.seconds/3600\n",
    "                        ).round(1)\n",
    "df_full.style.hide(axis='index').format(precision=1)"
   ]
  },
  {
   "cell_type": "code",
   "execution_count": 51,
   "metadata": {},
   "outputs": [
    {
     "data": {
      "text/html": [
       "<div>\n",
       "<style scoped>\n",
       "    .dataframe tbody tr th:only-of-type {\n",
       "        vertical-align: middle;\n",
       "    }\n",
       "\n",
       "    .dataframe tbody tr th {\n",
       "        vertical-align: top;\n",
       "    }\n",
       "\n",
       "    .dataframe thead th {\n",
       "        text-align: right;\n",
       "    }\n",
       "</style>\n",
       "<table border=\"1\" class=\"dataframe\">\n",
       "  <thead>\n",
       "    <tr style=\"text-align: right;\">\n",
       "      <th></th>\n",
       "      <th>Day</th>\n",
       "      <th>Start</th>\n",
       "      <th>End</th>\n",
       "      <th>Hours</th>\n",
       "      <th>Description</th>\n",
       "      <th>Notes</th>\n",
       "      <th>Project</th>\n",
       "      <th>Task</th>\n",
       "      <th>Earn Code</th>\n",
       "      <th>Ttime</th>\n",
       "    </tr>\n",
       "  </thead>\n",
       "  <tbody>\n",
       "    <tr>\n",
       "      <th>1</th>\n",
       "      <td>Mon Jul 11</td>\n",
       "      <td>10:00 AM</td>\n",
       "      <td>12:00 PM</td>\n",
       "      <td>3.5</td>\n",
       "      <td>Mocap</td>\n",
       "      <td>NaN</td>\n",
       "      <td>_General</td>\n",
       "      <td>_General</td>\n",
       "      <td>RGO</td>\n",
       "      <td>0 days 02:00:00</td>\n",
       "    </tr>\n",
       "    <tr>\n",
       "      <th>3</th>\n",
       "      <td>Mon Jul 11</td>\n",
       "      <td>1:00 PM</td>\n",
       "      <td>1:30 PM</td>\n",
       "      <td>3.5</td>\n",
       "      <td>Mocap</td>\n",
       "      <td>NaN</td>\n",
       "      <td>_General</td>\n",
       "      <td>_General</td>\n",
       "      <td>RGO</td>\n",
       "      <td>0 days 00:30:00</td>\n",
       "    </tr>\n",
       "  </tbody>\n",
       "</table>\n",
       "</div>"
      ],
      "text/plain": [
       "          Day     Start       End  Hours Description  Notes   Project  \\\n",
       "1  Mon Jul 11  10:00 AM  12:00 PM    3.5       Mocap    NaN  _General   \n",
       "3  Mon Jul 11   1:00 PM   1:30 PM    3.5       Mocap    NaN  _General   \n",
       "\n",
       "       Task Earn Code           Ttime  \n",
       "1  _General       RGO 0 days 02:00:00  \n",
       "3  _General       RGO 0 days 00:30:00  "
      ]
     },
     "execution_count": 51,
     "metadata": {},
     "output_type": "execute_result"
    }
   ],
   "source": [
    "df_full.loc[df_full['Description']=='Mocap']"
   ]
  },
  {
   "cell_type": "code",
   "execution_count": 54,
   "metadata": {},
   "outputs": [
    {
     "data": {
      "text/plain": [
       "array(['Mocap', 'ITG Meeting', 'NeoNatal Rig', 'Jov Icon',\n",
       "       'NeoNatal Model', 'Neonatal Rig and meet', 'NeoNatal R',\n",
       "       'Spay Rig', 'Spay Rig and Meeting'], dtype=object)"
      ]
     },
     "execution_count": 54,
     "metadata": {},
     "output_type": "execute_result"
    }
   ],
   "source": [
    "df_full['Description'].unique()"
   ]
  },
  {
   "cell_type": "code",
   "execution_count": 59,
   "metadata": {},
   "outputs": [
    {
     "data": {
      "text/plain": [
       "['Spay Rig and Meeting',\n",
       " 'Jov Icon',\n",
       " 'NeoNatal Model',\n",
       " 'NeoNatal R',\n",
       " 'NeoNatal Rig',\n",
       " 'Mocap',\n",
       " 'Spay Rig',\n",
       " 'ITG Meeting',\n",
       " 'Neonatal Rig and meet']"
      ]
     },
     "execution_count": 59,
     "metadata": {},
     "output_type": "execute_result"
    }
   ],
   "source": [
    "list(set(df_full['Description']))"
   ]
  },
  {
   "cell_type": "code",
   "execution_count": 58,
   "metadata": {},
   "outputs": [
    {
     "data": {
      "text/plain": [
       "[1, 2, 3, 4, 5, 12, 541]"
      ]
     },
     "execution_count": 58,
     "metadata": {},
     "output_type": "execute_result"
    }
   ],
   "source": [
    "a = set([1,2,3,4,12,3,541,2,3,4,1,2,4,5,1])\n",
    "[x for x in a]"
   ]
  }
 ],
 "metadata": {
  "kernelspec": {
   "display_name": "Python 3.9.13 64-bit",
   "language": "python",
   "name": "python3"
  },
  "language_info": {
   "codemirror_mode": {
    "name": "ipython",
    "version": 3
   },
   "file_extension": ".py",
   "mimetype": "text/x-python",
   "name": "python",
   "nbconvert_exporter": "python",
   "pygments_lexer": "ipython3",
   "version": "3.9.13"
  },
  "orig_nbformat": 4,
  "vscode": {
   "interpreter": {
    "hash": "b0fa6594d8f4cbf19f97940f81e996739fb7646882a419484c72d19e05852a7e"
   }
  }
 },
 "nbformat": 4,
 "nbformat_minor": 2
}
