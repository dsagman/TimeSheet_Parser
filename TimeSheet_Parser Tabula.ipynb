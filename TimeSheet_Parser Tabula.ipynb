{
 "cells": [
  {
   "cell_type": "code",
   "execution_count": 4,
   "metadata": {},
   "outputs": [
    {
     "name": "stdout",
     "output_type": "stream",
     "text": [
      "1\n"
     ]
    },
    {
     "data": {
      "text/plain": [
       "['Sun Jul 10',\n",
       " 'Mon Jul 11',\n",
       " '10:00 AM',\n",
       " '12:00 PM',\n",
       " '3.5',\n",
       " 'Mocap',\n",
       " '_General',\n",
       " '_General',\n",
       " 'RGO',\n",
       " '12:00 PM',\n",
       " '1:00 PM',\n",
       " 'ITG Meeting',\n",
       " '_General',\n",
       " '_General',\n",
       " 'RGO',\n",
       " '1:00 PM',\n",
       " '1:30 PM',\n",
       " 'Mocap',\n",
       " '_General',\n",
       " '_General',\n",
       " 'RGO',\n",
       " 'Tue Jul 12',\n",
       " 'Wed Jul 13',\n",
       " '9:30 AM',\n",
       " '11:30 AM',\n",
       " '2.0',\n",
       " 'NeoNatal Rig',\n",
       " '_General',\n",
       " '_General',\n",
       " 'RGO',\n",
       " 'Thu Jul 14',\n",
       " 'Fri Jul 15',\n",
       " 'Sat Jul 16']"
      ]
     },
     "execution_count": 4,
     "metadata": {},
     "output_type": "execute_result"
    }
   ],
   "source": [
    "import PyPDF2\n",
    "import pandas as pd\n",
    "\n",
    "pdfFile = open('july10-23.pdf', 'rb')\n",
    "\n",
    "pdfReadz = PyPDF2.PdfFileReader(pdfFile)\n",
    "\n",
    "print(pdfReadz.numPages)\n",
    "\n",
    "pageObj = pdfReadz.getPage(0)\n",
    "extText = pageObj.extract_text()\n",
    "textArray = extText.split('Earn Code')\n",
    "# extText\n",
    "textArray\n",
    "\n",
    "split2 = []\n",
    "split3 = []\n",
    "\n",
    "\n",
    "for i in range(len(textArray)):\n",
    "    if i == 1:\n",
    "        split2 = textArray[i].split('\\n')\n",
    "    if i == 2:\n",
    "        split3 = textArray[i].split('\\n')\n",
    "\n",
    "\n",
    "endIndex = split2.index('Week 2')\n",
    "split2 = split2[slice(1, endIndex, 1)]\n",
    "endIndex = split3.index('Totals')\n",
    "split3 = split3[slice(1, endIndex, 1)]\n",
    "\n",
    "# print(pageObj.extractText())\n",
    "\n",
    "split2"
   ]
  }
 ],
 "metadata": {
  "kernelspec": {
   "display_name": "Python 3.10.0 64-bit",
   "language": "python",
   "name": "python3"
  },
  "language_info": {
   "codemirror_mode": {
    "name": "ipython",
    "version": 3
   },
   "file_extension": ".py",
   "mimetype": "text/x-python",
   "name": "python",
   "nbconvert_exporter": "python",
   "pygments_lexer": "ipython3",
   "version": "3.10.0"
  },
  "orig_nbformat": 4,
  "vscode": {
   "interpreter": {
    "hash": "1e56072cd277e625e329daa10eae4022b771b686e0e0ac4a89d2c2fcdd3f63c1"
   }
  }
 },
 "nbformat": 4,
 "nbformat_minor": 2
}
